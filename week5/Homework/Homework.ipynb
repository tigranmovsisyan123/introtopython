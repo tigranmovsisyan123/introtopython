{
 "cells": [
  {
   "cell_type": "code",
   "execution_count": 12,
   "metadata": {},
   "outputs": [
    {
     "name": "stdout",
     "output_type": "stream",
     "text": [
      "9\n"
     ]
    }
   ],
   "source": [
    "def max(*args):\n",
    "    if len(args) == 0:\n",
    "        print(\"no numbers given\")\n",
    "    else:\n",
    "        list1 = []\n",
    "        for x in args:\n",
    "            list1.append(x)\n",
    "            list1 = sorted(list1)\n",
    "        return list1[-1]\n",
    "\n",
    "print(max(8,1,9,4,5))"
   ]
  },
  {
   "cell_type": "code",
   "execution_count": 18,
   "metadata": {},
   "outputs": [
    {
     "name": "stdout",
     "output_type": "stream",
     "text": [
      "[65, 4, 7, 8, 9, 48]\n"
     ]
    }
   ],
   "source": [
    "def func(args):\n",
    "    return list(set(args))\n",
    "\n",
    "list1 = [4,65,48,7,9,8,7,8,7,9,8]\n",
    "print(func(list1))"
   ]
  },
  {
   "cell_type": "code",
   "execution_count": 37,
   "metadata": {},
   "outputs": [
    {
     "name": "stdout",
     "output_type": "stream",
     "text": [
      "Before function call\n",
      "Inside the function\n",
      "After function call\n"
     ]
    }
   ],
   "source": [
    "def string(func):\n",
    "    def wrapper():\n",
    "        print(\"Before function call\")\n",
    "        func()\n",
    "        print(\"After function call\")\n",
    "    return wrapper\n",
    "\n",
    "\n",
    "@string\n",
    "def myfunc():\n",
    "    print( \"Inside the function\")\n",
    "\n",
    "myfunc()"
   ]
  },
  {
   "cell_type": "code",
   "execution_count": 51,
   "metadata": {},
   "outputs": [
    {
     "name": "stdout",
     "output_type": "stream",
     "text": [
      "<u>Hi, its me</u>\n"
     ]
    }
   ],
   "source": [
    "def dec1(func):\n",
    "    def wrapper(*args):\n",
    "        return func() + \", its me\"\n",
    "    return wrapper\n",
    "\n",
    "def dec2(func):\n",
    "    def wrapper(*args):\n",
    "        return \"<u>\" + func() + \"</u>\"\n",
    "    return wrapper\n",
    "    \n",
    "@dec2\n",
    "@dec1\n",
    "\n",
    "def barev():\n",
    "    return \"Hi\"\n",
    "\n",
    "print(barev())"
   ]
  },
  {
   "cell_type": "code",
   "execution_count": 114,
   "metadata": {},
   "outputs": [],
   "source": [
    "def my_range(n):\n",
    "    for x in range(n+2):\n",
    "        if x == n+1:\n",
    "            return \"no values\"\n",
    "        yield x\n",
    "    \n",
    "nums = my_range(4)"
   ]
  },
  {
   "cell_type": "code",
   "execution_count": 116,
   "metadata": {},
   "outputs": [
    {
     "ename": "StopIteration",
     "evalue": "no values",
     "output_type": "error",
     "traceback": [
      "\u001b[1;31m---------------------------------------------------------------------------\u001b[0m",
      "\u001b[1;31mStopIteration\u001b[0m                             Traceback (most recent call last)",
      "\u001b[1;32m<ipython-input-116-65d62a8c3136>\u001b[0m in \u001b[0;36m<module>\u001b[1;34m\u001b[0m\n\u001b[1;32m----> 1\u001b[1;33m \u001b[0mnext\u001b[0m\u001b[1;33m(\u001b[0m\u001b[0mnums\u001b[0m\u001b[1;33m)\u001b[0m\u001b[1;33m\u001b[0m\u001b[1;33m\u001b[0m\u001b[0m\n\u001b[0m",
      "\u001b[1;31mStopIteration\u001b[0m: no values"
     ]
    }
   ],
   "source": [
    "next(nums)"
   ]
  },
  {
   "cell_type": "code",
   "execution_count": null,
   "metadata": {},
   "outputs": [],
   "source": []
  },
  {
   "cell_type": "code",
   "execution_count": null,
   "metadata": {},
   "outputs": [],
   "source": []
  }
 ],
 "metadata": {
  "kernelspec": {
   "display_name": "Python 3",
   "language": "python",
   "name": "python3"
  },
  "language_info": {
   "codemirror_mode": {
    "name": "ipython",
    "version": 3
   },
   "file_extension": ".py",
   "mimetype": "text/x-python",
   "name": "python",
   "nbconvert_exporter": "python",
   "pygments_lexer": "ipython3",
   "version": "3.7.4"
  }
 },
 "nbformat": 4,
 "nbformat_minor": 2
}
