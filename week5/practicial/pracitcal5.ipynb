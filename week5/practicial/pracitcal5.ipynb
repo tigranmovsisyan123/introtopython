{
 "cells": [
  {
   "cell_type": "code",
   "execution_count": 46,
   "metadata": {},
   "outputs": [
    {
     "name": "stdout",
     "output_type": "stream",
     "text": [
      "8\n"
     ]
    }
   ],
   "source": [
    "№problem1\n",
    "def average(tiv1, tiv2, tiv3):\n",
    "        return (tiv1+tiv2+tiv3)/ 3\n",
    "print(int(average(1,20,3,)))\n"
   ]
  },
  {
   "cell_type": "code",
   "execution_count": 56,
   "metadata": {},
   "outputs": [
    {
     "data": {
      "text/plain": [
       "3"
      ]
     },
     "execution_count": 56,
     "metadata": {},
     "output_type": "execute_result"
    }
   ],
   "source": [
    "#problem2\n",
    "def zuyg(list):\n",
    "    return len([x for x in list if x%2==0])\n",
    "zuyg([1,2,3,4,5,6])"
   ]
  },
  {
   "cell_type": "code",
   "execution_count": 155,
   "metadata": {},
   "outputs": [
    {
     "name": "stdout",
     "output_type": "stream",
     "text": [
      "False\n"
     ]
    }
   ],
   "source": [
    "def psswrd(password):\n",
    "    nums= [str(x) for x in range(0,10)]\n",
    "    if isinstance(password, str,):\n",
    "        if len(password)> 10:\n",
    "            if len([x for x in password if x in nums])>=2:\n",
    "                return True\n",
    "            else:\n",
    "                return False\n",
    "        else:\n",
    "            return False\n",
    "    \n",
    "print(psswrd(\"ssdsdsdsad\"))\n"
   ]
  },
  {
   "cell_type": "code",
   "execution_count": 164,
   "metadata": {},
   "outputs": [
    {
     "name": "stdout",
     "output_type": "stream",
     "text": [
      "Tigran Welcome to our company!\n"
     ]
    }
   ],
   "source": [
    "def arguments(name, greeting =\"Welcome to our company!\"):\n",
    "    print(name, greeting)\n",
    "   \n",
    "arguments(\"Tigran\")\n",
    "    "
   ]
  },
  {
   "cell_type": "code",
   "execution_count": 215,
   "metadata": {},
   "outputs": [
    {
     "name": "stdout",
     "output_type": "stream",
     "text": [
      "Tigran your average grade is: 2.0\n"
     ]
    }
   ],
   "source": [
    "def arguments(name,*average):\n",
    "    if len(average) > 0:\n",
    "        y = str(sum(average) / len(average))\n",
    "        print(name, \"your average grade is:\", y)\n",
    "    else:\n",
    "        print(\"No grades available for \", name)\n",
    "arguments(\"Tigran\", 1,2,3)"
   ]
  },
  {
   "cell_type": "code",
   "execution_count": 234,
   "metadata": {},
   "outputs": [
    {
     "name": "stdout",
     "output_type": "stream",
     "text": [
      "key:  key value:  45\n"
     ]
    }
   ],
   "source": [
    "def arguments(user, **args):\n",
    "    if user == 'admin':\n",
    "        for key, value in args.items():\n",
    "            print(\"key: \", key, \"value: \", value)\n",
    "    else:\n",
    "        print(\"access denied to the user \" + user)\n",
    "arguments(\"admin\", key = 45)"
   ]
  },
  {
   "cell_type": "markdown",
   "metadata": {},
   "source": [
    "# Decorators\n"
   ]
  },
  {
   "cell_type": "code",
   "execution_count": 54,
   "metadata": {},
   "outputs": [
    {
     "name": "stdout",
     "output_type": "stream",
     "text": [
      "['Anna', 'Edgar']\n",
      "['Anna', 'Edgar', 'Tigran', 'Hayk']\n"
     ]
    }
   ],
   "source": [
    "list1 = ['Anna', 'Edgar'] \n",
    "list2 = ['Tigran','Hayk']\n",
    "\n",
    "def decor(func):\n",
    "    def wrapper(*args):  \n",
    "        print(list1)\n",
    "        func(*args) \n",
    "        print(list1)\n",
    "    return wrapper\n",
    " \n",
    "@decor\n",
    "def add_values(list2):\n",
    "    for x in list2:\n",
    "        if x not in list1:\n",
    "            list1.append(x)\n",
    "\n",
    "add_values(list2)\n",
    "  \n"
   ]
  },
  {
   "cell_type": "code",
   "execution_count": 95,
   "metadata": {},
   "outputs": [
    {
     "data": {
      "text/plain": [
       "'Hi everyone!!! welcometo the party'"
      ]
     },
     "execution_count": 95,
     "metadata": {},
     "output_type": "execute_result"
    }
   ],
   "source": [
    "def lowercase(func):\n",
    "    def wrapper(*args):  \n",
    "        func(*args) \n",
    "        return func().lower().capitalize()\n",
    "    return wrapper\n",
    "\n",
    "def addstring(func1):\n",
    "    def wrapper(*args):\n",
    "        func1(*args)\n",
    "        return func1() + \"!!! Welcometo the party\"\n",
    "    return wrapper\n",
    "@lowercase\n",
    "@addstring\n",
    "def myfunc():\n",
    "    return \"Hi EVERYONE\"\n",
    "\n",
    "myfunc()\n"
   ]
  },
  {
   "cell_type": "markdown",
   "metadata": {},
   "source": [
    "# Generators\n"
   ]
  },
  {
   "cell_type": "code",
   "execution_count": 3,
   "metadata": {},
   "outputs": [
    {
     "name": "stdout",
     "output_type": "stream",
     "text": [
      "<generator object list_func at 0x000002811A49BD48>\n"
     ]
    }
   ],
   "source": [
    "list1 = [2,4,5,6,7,8]\n",
    "def  list_func(list1):\n",
    "    for x in list1:\n",
    "        yield x\n",
    "\n",
    "num = list_func(list1)\n",
    "print(num)"
   ]
  },
  {
   "cell_type": "code",
   "execution_count": 4,
   "metadata": {},
   "outputs": [
    {
     "data": {
      "text/plain": [
       "2"
      ]
     },
     "execution_count": 4,
     "metadata": {},
     "output_type": "execute_result"
    }
   ],
   "source": [
    "next(num)"
   ]
  },
  {
   "cell_type": "code",
   "execution_count": 9,
   "metadata": {},
   "outputs": [
    {
     "name": "stdout",
     "output_type": "stream",
     "text": [
      "[0, 1, 2, 3, 4, 5, 6, 7, 8, 9]\n"
     ]
    }
   ],
   "source": [
    "def iter_num(n):\n",
    "    for num in range(n):\n",
    "        yield num\n",
    "        \n",
    "gen = iter_num(10)\n",
    "print(list(gen))"
   ]
  },
  {
   "cell_type": "code",
   "execution_count": 32,
   "metadata": {},
   "outputs": [],
   "source": [
    "def power(max):\n",
    "    for x in range(max+1):\n",
    "        yield x\n",
    "gen = power(8)\n",
    "\n",
    "\n",
    "    \n",
    "    "
   ]
  },
  {
   "cell_type": "code",
   "execution_count": 31,
   "metadata": {},
   "outputs": [
    {
     "ename": "TypeError",
     "evalue": "can only concatenate tuple (not \"int\") to tuple",
     "output_type": "error",
     "traceback": [
      "\u001b[1;31m---------------------------------------------------------------------------\u001b[0m",
      "\u001b[1;31mTypeError\u001b[0m                                 Traceback (most recent call last)",
      "\u001b[1;32m<ipython-input-31-6e72e47198db>\u001b[0m in \u001b[0;36m<module>\u001b[1;34m\u001b[0m\n\u001b[1;32m----> 1\u001b[1;33m \u001b[0mnext\u001b[0m\u001b[1;33m(\u001b[0m\u001b[0mgen\u001b[0m\u001b[1;33m)\u001b[0m\u001b[1;33m\u001b[0m\u001b[1;33m\u001b[0m\u001b[0m\n\u001b[0m",
      "\u001b[1;32m<ipython-input-30-6d9f8279c84b>\u001b[0m in \u001b[0;36mpower\u001b[1;34m(*max)\u001b[0m\n\u001b[0;32m      1\u001b[0m \u001b[1;32mdef\u001b[0m \u001b[0mpower\u001b[0m\u001b[1;33m(\u001b[0m\u001b[1;33m*\u001b[0m\u001b[0mmax\u001b[0m\u001b[1;33m)\u001b[0m\u001b[1;33m:\u001b[0m\u001b[1;33m\u001b[0m\u001b[1;33m\u001b[0m\u001b[0m\n\u001b[1;32m----> 2\u001b[1;33m     \u001b[1;32mfor\u001b[0m \u001b[0mx\u001b[0m \u001b[1;32min\u001b[0m \u001b[0mrange\u001b[0m\u001b[1;33m(\u001b[0m\u001b[0mmax\u001b[0m\u001b[1;33m+\u001b[0m\u001b[1;36m1\u001b[0m\u001b[1;33m)\u001b[0m\u001b[1;33m:\u001b[0m\u001b[1;33m\u001b[0m\u001b[1;33m\u001b[0m\u001b[0m\n\u001b[0m\u001b[0;32m      3\u001b[0m         \u001b[1;32myield\u001b[0m \u001b[0mx\u001b[0m\u001b[1;33m\u001b[0m\u001b[1;33m\u001b[0m\u001b[0m\n\u001b[0;32m      4\u001b[0m \u001b[0mgen\u001b[0m \u001b[1;33m=\u001b[0m \u001b[0mpower\u001b[0m\u001b[1;33m(\u001b[0m\u001b[1;36m8\u001b[0m\u001b[1;33m)\u001b[0m\u001b[1;33m\u001b[0m\u001b[1;33m\u001b[0m\u001b[0m\n\u001b[0;32m      5\u001b[0m \u001b[1;33m\u001b[0m\u001b[0m\n",
      "\u001b[1;31mTypeError\u001b[0m: can only concatenate tuple (not \"int\") to tuple"
     ]
    }
   ],
   "source": [
    "next(gen)"
   ]
  },
  {
   "cell_type": "code",
   "execution_count": null,
   "metadata": {},
   "outputs": [],
   "source": []
  }
 ],
 "metadata": {
  "kernelspec": {
   "display_name": "Python 3",
   "language": "python",
   "name": "python3"
  },
  "language_info": {
   "codemirror_mode": {
    "name": "ipython",
    "version": 3
   },
   "file_extension": ".py",
   "mimetype": "text/x-python",
   "name": "python",
   "nbconvert_exporter": "python",
   "pygments_lexer": "ipython3",
   "version": "3.7.4"
  }
 },
 "nbformat": 4,
 "nbformat_minor": 2
}
