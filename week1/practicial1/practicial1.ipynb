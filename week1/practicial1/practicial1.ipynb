{
 "cells": [
  {
   "cell_type": "code",
   "execution_count": 1,
   "metadata": {},
   "outputs": [
    {
     "name": "stdout",
     "output_type": "stream",
     "text": [
      "course intro to python\n",
      "student Tigran Movsisyan\n",
      "nickname Tiko\n",
      "grade 77\n",
      "python_expert False\n"
     ]
    }
   ],
   "source": [
    "#Problem2\n",
    "\n",
    "course= \"intro to python\"\n",
    "student= \"Tigran Movsisyan\"\n",
    "nickname= \"Tiko\"\n",
    "grade=77\n",
    "python_expert = False\n",
    "print(\"course:\",course)\n",
    "print(\"student:\",student)\n",
    "print (\"nickname:\",nickname)\n",
    "print(\"grade:\",grade)\n",
    "print(\"python_expert:\",python_expert)"
   ]
  },
  {
   "cell_type": "code",
   "execution_count": 4,
   "metadata": {},
   "outputs": [
    {
     "name": "stdout",
     "output_type": "stream",
     "text": [
      "the hipotenuse of triagnle abc = 5.0\n"
     ]
    }
   ],
   "source": [
    "#Problem 4\n",
    "\n",
    "ab=3\n",
    "ac=4\n",
    "bc=(ab**2 + ac**2)**0.5\n",
    "print(\"the hypotenuse of triagnle abc =\",bc)"
   ]
  },
  {
   "cell_type": "code",
   "execution_count": null,
   "metadata": {},
   "outputs": [],
   "source": []
  }
 ],
 "metadata": {
  "kernelspec": {
   "display_name": "Python 3",
   "language": "python",
   "name": "python3"
  },
  "language_info": {
   "codemirror_mode": {
    "name": "ipython",
    "version": 3
   },
   "file_extension": ".py",
   "mimetype": "text/x-python",
   "name": "python",
   "nbconvert_exporter": "python",
   "pygments_lexer": "ipython3",
   "version": "3.7.4"
  }
 },
 "nbformat": 4,
 "nbformat_minor": 2
}
