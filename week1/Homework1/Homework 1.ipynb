{
 "cells": [
  {
   "cell_type": "markdown",
   "metadata": {},
   "source": [
    "# Problem1\n",
    "\n"
   ]
  },
  {
   "cell_type": "code",
   "execution_count": null,
   "metadata": {},
   "outputs": [],
   "source": [
    "project = \"cake\"\n",
    "difficulty = 4\n",
    "ingredients = [\"flour\", \"butter\", \"sugar\", \"eggs\", \"cocoa powder\", \"baking powder\"]\n",
    "print(\"apples\" in ingredients)\n",
    "print('butter' in ingredients)\n",
    "print(\"eggs\" in ingredients or \"margarine\" in ingredients)\n",
    "print(\"eggs\" in ingredients and \"margarine\" in ingredients)\n",
    "\n",
    "#8\n",
    "\n",
    "flour = 175\n",
    "butter = 175\n",
    "sugar = \"100g\"\n",
    "eggs = 2\n",
    "cocoa_powder = \"1ts\"\n",
    "baking_powder = 0.5\n",
    "#8a\n",
    "\n",
    "print(\"flour:\", type(flour))\n",
    "print(\"butter:\", type(butter))\n",
    "print(\"sugar:\",type(sugar))\n",
    "print(\"eggs:\",type(eggs))\n",
    "print(\"cocoa_powder:\",type(cocoa_powder))\n",
    "print(\"baking_powder:\",type(baking_powder))\n",
    "#9\n",
    "\n",
    "print (\"flour:\",flour)\n",
    "print (\"butter-\",butter)\n",
    "print (\"sugar-\",sugar)\n",
    "print (\"eggs-\",eggs)\n",
    "print (\"cocoa powder-\",cocoa_powder)\n",
    "print (\"baking powder-\",baking_powder)"
   ]
  },
  {
   "cell_type": "markdown",
   "metadata": {},
   "source": [
    "# Problem 3"
   ]
  },
  {
   "cell_type": "code",
   "execution_count": 68,
   "metadata": {},
   "outputs": [
    {
     "name": "stdout",
     "output_type": "stream",
     "text": [
      "1003.0\n",
      "852\n"
     ]
    }
   ],
   "source": [
    "a = 15\n",
    "b = 8\n",
    "c = 2\n",
    "x = (((5*a**2) - (a * b)) + ((a%2) - a/5))\n",
    "y = (((b**3) + (3*a*b)) - (10*c))\n",
    "print(x)\n",
    "print(y)"
   ]
  },
  {
   "cell_type": "code",
   "execution_count": null,
   "metadata": {},
   "outputs": [],
   "source": []
  }
 ],
 "metadata": {
  "kernelspec": {
   "display_name": "Python 3",
   "language": "python",
   "name": "python3"
  },
  "language_info": {
   "codemirror_mode": {
    "name": "ipython",
    "version": 3
   },
   "file_extension": ".py",
   "mimetype": "text/x-python",
   "name": "python",
   "nbconvert_exporter": "python",
   "pygments_lexer": "ipython3",
   "version": "3.7.4"
  }
 },
 "nbformat": 4,
 "nbformat_minor": 2
}
