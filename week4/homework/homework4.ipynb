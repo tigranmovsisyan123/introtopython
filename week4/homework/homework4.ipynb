{
 "cells": [
  {
   "cell_type": "code",
   "execution_count": null,
   "metadata": {},
   "outputs": [],
   "source": [
    "n_shoes = input(\"how many shoe do you want?\")\n",
    "if int(n_shoes)*100 >= 1000:\n",
    "    print(\"you get a discount\")\n",
    "else:\n",
    "    print(\"you don't get a discount\")"
   ]
  },
  {
   "cell_type": "code",
   "execution_count": null,
   "metadata": {},
   "outputs": [],
   "source": [
    "d = {'name': 'Armen', 'age': 15, 'grades': [10, 8, 8,4, 6, 7] }\n",
    "mijin = (sum(d[\"grades\"])) / (len(d[\"grades\"]))  \n",
    "if int(mijin) > 7:\n",
    "    print(\"good job\")\n",
    "else: \n",
    "    print(\"You need to work more\")\n"
   ]
  },
  {
   "cell_type": "code",
   "execution_count": 27,
   "metadata": {},
   "outputs": [
    {
     "name": "stdout",
     "output_type": "stream",
     "text": [
      "1\n",
      "3\n",
      "5\n",
      "7\n",
      "9\n"
     ]
    }
   ],
   "source": [
    "c=0\n",
    "while c<10:\n",
    "    c+=1\n",
    "    \n",
    "    if c%2==0:\n",
    "        continue\n",
    "    print(c)\n",
    "    \n",
    "    \n",
    "   \n",
    "  "
   ]
  },
  {
   "cell_type": "code",
   "execution_count": 38,
   "metadata": {},
   "outputs": [
    {
     "name": "stdout",
     "output_type": "stream",
     "text": [
      "1\n",
      "3\n",
      "5\n",
      "7\n",
      "9\n",
      "11\n"
     ]
    }
   ],
   "source": [
    "list1 = [1, 3, 5, 7, 9, 11, 13, 15]\n",
    "list2 = [4, 6,14, 11, 8, 16]\n",
    "for i in list1:\n",
    "    print(i)\n",
    "    if i in list2:\n",
    "        break"
   ]
  },
  {
   "cell_type": "code",
   "execution_count": 46,
   "metadata": {},
   "outputs": [
    {
     "name": "stdout",
     "output_type": "stream",
     "text": [
      "Input desert name: ice cream\n",
      "your desert will arrive in 10 minutes\n"
     ]
    }
   ],
   "source": [
    "menu = [\"ice cream\", \"chocolate\", \"apple crisp\", \"cookies\"]\n",
    "desert = input(\"Input desert name: \")\n",
    "while desert:\n",
    "        if desert not in menu:\n",
    "            print(\"please choose another desert\")\n",
    "        else:\n",
    "            print(\"your desert will arrive in 10 minutes\")\n",
    "        break\n",
    "    "
   ]
  },
  {
   "cell_type": "code",
   "execution_count": 76,
   "metadata": {},
   "outputs": [
    {
     "name": "stdout",
     "output_type": "stream",
     "text": [
      "3\n"
     ]
    }
   ],
   "source": [
    "list2 = [46,57,10,5,9,45,789,4,6]\n",
    "list1 = len([x for x in list2 if x in range(5,10)])\n",
    "print(list1)"
   ]
  },
  {
   "cell_type": "code",
   "execution_count": 95,
   "metadata": {},
   "outputs": [
    {
     "name": "stdout",
     "output_type": "stream",
     "text": [
      "[[10, 20, 40], [40, 50, 60], [70, 80, 90]]\n",
      "[[10, 20, 100], [40, 50, 100], [70, 80, 100]]\n"
     ]
    }
   ],
   "source": [
    "list4 = [[10, 20, 40], [40, 50, 60],[70, 80, 90]]\n",
    "list5 = [x[0:2]+ [100] for x in list4]\n",
    "print(list4)\n",
    "print(list5)"
   ]
  },
  {
   "cell_type": "code",
   "execution_count": null,
   "metadata": {},
   "outputs": [],
   "source": []
  },
  {
   "cell_type": "code",
   "execution_count": null,
   "metadata": {},
   "outputs": [],
   "source": []
  }
 ],
 "metadata": {
  "kernelspec": {
   "display_name": "Python 3",
   "language": "python",
   "name": "python3"
  },
  "language_info": {
   "codemirror_mode": {
    "name": "ipython",
    "version": 3
   },
   "file_extension": ".py",
   "mimetype": "text/x-python",
   "name": "python",
   "nbconvert_exporter": "python",
   "pygments_lexer": "ipython3",
   "version": "3.7.4"
  }
 },
 "nbformat": 4,
 "nbformat_minor": 2
}
