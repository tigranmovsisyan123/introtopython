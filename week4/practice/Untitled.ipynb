{
 "cells": [
  {
   "cell_type": "code",
   "execution_count": null,
   "metadata": {
    "scrolled": true
   },
   "outputs": [],
   "source": []
  },
  {
   "cell_type": "code",
   "execution_count": 5,
   "metadata": {},
   "outputs": [
    {
     "name": "stdout",
     "output_type": "stream",
     "text": [
      "ractangle\n"
     ]
    }
   ],
   "source": [
    "#PROBLEM1\n",
    "a = 45\n",
    "b = 50\n",
    "\n",
    "if a == b:\n",
    "    print(\"square\")\n",
    "else:\n",
    "    print(\"ractangle\")"
   ]
  },
  {
   "cell_type": "code",
   "execution_count": null,
   "metadata": {},
   "outputs": [],
   "source": []
  },
  {
   "cell_type": "code",
   "execution_count": 10,
   "metadata": {},
   "outputs": [
    {
     "name": "stdout",
     "output_type": "stream",
     "text": [
      "Please enter a different password\n"
     ]
    }
   ],
   "source": [
    "\n",
    "name = \"Tigran\"\n",
    "age = 22\n",
    "password = \"tiko123\"\n",
    "\n",
    "if name == \"Batman\":\n",
    "    print(\"Welcome Mr.Batman\")\n",
    "if age < 16:\n",
    "    print(\"Dear\" + name + \"you are too young to register\")\n",
    "if not (\"*\" in password or \"&\" in password):\n",
    "    print(\"Please enter a different password\")"
   ]
  },
  {
   "cell_type": "code",
   "execution_count": 13,
   "metadata": {},
   "outputs": [
    {
     "name": "stdout",
     "output_type": "stream",
     "text": [
      "Please input number: 99\n",
      "{'name': 'Armen', 'age': 15, 'grades': [10, 8, 8, 4, 6, 7], 'weight': '99'}\n"
     ]
    }
   ],
   "source": [
    "d = {'name': 'Armen', 'age': 15, 'grades': [10, 8, 8, 4, 6, 7] }\n",
    "\n",
    "if \"weight\" in d:\n",
    "    print(d[\"weight\"])\n",
    "else:\n",
    "    d['weight'] = input(\"Please input number: \")\n",
    "print(d) \n"
   ]
  },
  {
   "cell_type": "code",
   "execution_count": 15,
   "metadata": {},
   "outputs": [
    {
     "name": "stdout",
     "output_type": "stream",
     "text": [
      "1\n",
      "3\n",
      "5\n",
      "7\n",
      "9\n",
      "11\n",
      "13\n",
      "15\n",
      "17\n",
      "19\n",
      "21\n",
      "23\n",
      "25\n",
      "27\n",
      "29\n",
      "31\n",
      "33\n",
      "35\n",
      "37\n",
      "39\n",
      "41\n",
      "43\n",
      "45\n",
      "47\n",
      "49\n",
      "51\n",
      "53\n",
      "55\n",
      "57\n",
      "59\n",
      "61\n",
      "63\n",
      "65\n",
      "67\n",
      "69\n",
      "71\n",
      "73\n",
      "75\n",
      "77\n",
      "79\n",
      "81\n",
      "83\n",
      "85\n",
      "87\n",
      "89\n",
      "91\n",
      "93\n",
      "95\n",
      "97\n",
      "99\n"
     ]
    }
   ],
   "source": [
    "for x in range(1,100,2):\n",
    "    print(x)"
   ]
  },
  {
   "cell_type": "code",
   "execution_count": 35,
   "metadata": {},
   "outputs": [
    {
     "name": "stdout",
     "output_type": "stream",
     "text": [
      "1\n",
      "3\n",
      "5\n",
      "6\n"
     ]
    }
   ],
   "source": [
    "n = 0\n",
    "\n",
    "while n<6:\n",
    "    n += 1\n",
    "    \n",
    "    if n == 2 or n ==4:\n",
    "        continue\n",
    "    print(n)"
   ]
  },
  {
   "cell_type": "code",
   "execution_count": 39,
   "metadata": {},
   "outputs": [
    {
     "name": "stdout",
     "output_type": "stream",
     "text": [
      "1\n",
      "2\n",
      "3\n",
      "4\n",
      "5\n",
      "6\n",
      "7\n",
      "8\n",
      "9\n",
      "10\n",
      "11\n",
      "12\n",
      "13\n",
      "14\n"
     ]
    }
   ],
   "source": [
    "n = 0\n",
    "\n",
    "while n<20:\n",
    "    n += 1\n",
    "    \n",
    "    if n%3 == 0 and  n%5==0:\n",
    "        break\n",
    "    print(n)    "
   ]
  },
  {
   "cell_type": "code",
   "execution_count": 45,
   "metadata": {},
   "outputs": [
    {
     "name": "stdout",
     "output_type": "stream",
     "text": [
      "[5, 7, -7, 'abc', 2, 4, True, 3, 4, 6, 7, 7]\n",
      "[5, 7, -7, 'abc', 2, 4, True, 3, 4, 6, 7, 7]\n",
      "[5, 7, -7, 'abc', 2, 4, True, 3, 4, 6, 7, 7]\n",
      "[5, 7, -7, 'abc', 2, 4, True, 3, 4, 6, 7, 7]\n",
      "[5, 7, -7, 'abc', 2, 4, True, 3, 4, 6, 7, 7]\n",
      "[5, 7, -7, 'abc', 2, 4, True, 3, 4, 6, 7, 7]\n",
      "[5, 7, -7, 'abc', 2, 4, True, 3, 4, 6, 7, 7]\n",
      "[5, 7, -7, 'abc', 2, 4, True, 3, 4, 6, 7, 7]\n"
     ]
    }
   ],
   "source": [
    "list1 = [5, 7, -7, \"abc\", 2, 4, True, 3, 4, 6, 7, 7]\n",
    "for three in list1:\n",
    "    print(list1)\n",
    "    if three == 3:\n",
    "        break\n",
    "        \n",
    "        "
   ]
  },
  {
   "cell_type": "code",
   "execution_count": 50,
   "metadata": {},
   "outputs": [
    {
     "name": "stdout",
     "output_type": "stream",
     "text": [
      "[7, 8, 120, 25, 44, 20, 27]\n",
      "[7, 25, 27]\n"
     ]
    }
   ],
   "source": [
    "num =  [7,8, 120, 25, 44, 20, 27]\n",
    "num2 =  [n for n in num if n%2!=0]\n",
    "\n",
    "print(num)\n",
    "print(num2)"
   ]
  },
  {
   "cell_type": "code",
   "execution_count": 53,
   "metadata": {},
   "outputs": [
    {
     "name": "stdout",
     "output_type": "stream",
     "text": [
      "[0, 1, 4, 9, 16, 25, 36, 49, 64, 81, 100, 121, 144, 169, 196, 225, 256, 289, 324, 361, 400, 441, 484, 529, 576, 625, 676, 729, 784, 841, 900, 961, 1024, 1089, 1156, 1225, 1296, 1369, 1444, 1521, 1600, 1681, 1764, 1849, 1936, 2025, 2116, 2209, 2304, 2401, 2500]\n"
     ]
    }
   ],
   "source": [
    "num = range(0,51)\n",
    "list3 = [n**2 for n in num]\n",
    "print(list3)"
   ]
  },
  {
   "cell_type": "code",
   "execution_count": 55,
   "metadata": {},
   "outputs": [
    {
     "name": "stdout",
     "output_type": "stream",
     "text": [
      "[2, 4, 45, 60, 80, 101, 150]\n",
      "[45, 60, 80, 101, 150]\n"
     ]
    }
   ],
   "source": [
    "list1 = [2,4,45,60,80,101,150]\n",
    "list2 = [n for n in list1 if n>20]\n",
    "print(list1)\n",
    "print(list2)"
   ]
  },
  {
   "cell_type": "code",
   "execution_count": 57,
   "metadata": {},
   "outputs": [
    {
     "name": "stdout",
     "output_type": "stream",
     "text": [
      "type text hereTigran\n",
      "Tigran\n",
      "['T', 'i', 'g', 'r', 'a', 'n']\n"
     ]
    }
   ],
   "source": [
    "str1 = input(\"type text here\")\n",
    "l1 = [x for x in str1]\n",
    "print(str1)\n",
    "print (l1)\n"
   ]
  },
  {
   "cell_type": "code",
   "execution_count": 68,
   "metadata": {},
   "outputs": [
    {
     "name": "stdout",
     "output_type": "stream",
     "text": [
      "aba\n",
      "1221\n",
      "4\n"
     ]
    }
   ],
   "source": [
    "list1 = ['a', 'abc', 'xyz', 's', 'aba', '12211']\n",
    "list1=[\"a\", \"abc\", \"xyz\", \"s\", \"aba\", \"1221\"]\n",
    "for n in list1:\n",
    "    if len(n)>=2 and n[0] == n[-1]:\n",
    "        print(n)\n",
    "m = len(n)\n",
    "print(m)"
   ]
  },
  {
   "cell_type": "code",
   "execution_count": null,
   "metadata": {},
   "outputs": [],
   "source": [
    "n_shoes = int(input(\"How many shoes do you want to buy? \"))\n",
    "\n",
    "if n_shoes * 100 > 1000:\n",
    "    print(\"You get a discount\")\n",
    "else:\n",
    "    print(\"You don’t get a discount\")\n",
    "    "
   ]
  },
  {
   "cell_type": "code",
   "execution_count": null,
   "metadata": {},
   "outputs": [],
   "source": []
  },
  {
   "cell_type": "code",
   "execution_count": 72,
   "metadata": {},
   "outputs": [
    {
     "name": "stdout",
     "output_type": "stream",
     "text": [
      "1\n",
      "3\n",
      "5\n",
      "7\n",
      "9\n"
     ]
    }
   ],
   "source": [
    "for x in range(1,10):\n",
    "    if x%2==0:\n",
    "        continue\n",
    "    print(x)"
   ]
  }
 ],
 "metadata": {
  "kernelspec": {
   "display_name": "Python 3",
   "language": "python",
   "name": "python3"
  },
  "language_info": {
   "codemirror_mode": {
    "name": "ipython",
    "version": 3
   },
   "file_extension": ".py",
   "mimetype": "text/x-python",
   "name": "python",
   "nbconvert_exporter": "python",
   "pygments_lexer": "ipython3",
   "version": "3.7.4"
  }
 },
 "nbformat": 4,
 "nbformat_minor": 2
}
