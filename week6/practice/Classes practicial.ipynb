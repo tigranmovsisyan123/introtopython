{
 "cells": [
  {
   "cell_type": "code",
   "execution_count": 17,
   "metadata": {},
   "outputs": [
    {
     "name": "stdout",
     "output_type": "stream",
     "text": [
      "A red circle with radius 5\n"
     ]
    }
   ],
   "source": [
    "class Circle:\n",
    "    def __init__(self, radius, color):\n",
    "        self.radius = radius\n",
    "        self.color = color\n",
    "    \n",
    "    def getdesc(self):\n",
    "        print(\"A\",  str(self.color),  \"circle with radius\", str(self.radius) )\n",
    "\n",
    "circle1 = Circle(5,\"red\")\n",
    "circle1.getdesc()"
   ]
  },
  {
   "cell_type": "code",
   "execution_count": 28,
   "metadata": {},
   "outputs": [
    {
     "name": "stdout",
     "output_type": "stream",
     "text": [
      "red\n"
     ]
    },
    {
     "data": {
      "text/plain": [
       "'RED'"
      ]
     },
     "execution_count": 28,
     "metadata": {},
     "output_type": "execute_result"
    }
   ],
   "source": [
    "class String:\n",
    "    def __init__(self, my_str):\n",
    "        self.str = my_str\n",
    "    \n",
    "    def get_String(self):\n",
    "        return self.str\n",
    "    def print_String(self):\n",
    "        return self.str.upper()\n",
    "string1 = String(\"red\")\n",
    "print(string1.get_String())\n",
    "string1.print_String()"
   ]
  },
  {
   "cell_type": "code",
   "execution_count": 61,
   "metadata": {},
   "outputs": [
    {
     "name": "stdout",
     "output_type": "stream",
     "text": [
      "Tigran Movsisyan\n"
     ]
    },
    {
     "data": {
      "text/plain": [
       "'High'"
      ]
     },
     "execution_count": 61,
     "metadata": {},
     "output_type": "execute_result"
    }
   ],
   "source": [
    "class Employee:\n",
    "    def __init__(self, name, last_name, monthly_salary):\n",
    "        self.n = name\n",
    "        self.ln = last_name\n",
    "        self.__ms = monthly_salary\n",
    "    def getFullName(self):\n",
    "        return self.n + \" \" + self.ln\n",
    "    def annualSalary(self):\n",
    "        if self.__ms * 12 > 100:\n",
    "            return \"High\"\n",
    "        else:\n",
    "            return \"Low\"\n",
    "        \n",
    "    \n",
    "        \n",
    "    \n",
    "Emp1 = Employee(\"Tigran\", \"Movsisyan\", 100)\n",
    "print(Emp1.getFullName())\n",
    "Emp1.annualSalary()"
   ]
  },
  {
   "cell_type": "code",
   "execution_count": 75,
   "metadata": {},
   "outputs": [
    {
     "name": "stdout",
     "output_type": "stream",
     "text": [
      "Bmw is better than Mercedes\n"
     ]
    }
   ],
   "source": [
    "class Car:\n",
    "    def __init__(self, model,color,max_speed):\n",
    "        self.model = model\n",
    "        self.color = color\n",
    "        self.max_speed = max_speed\n",
    "    def compareCar(self, car2):\n",
    "        if self.max_speed > car2.max_speed:\n",
    "            return self.model + \" is better than\"+  car2.model\n",
    "        else:\n",
    "            return car2.model, \"is better than\", self.model\n",
    "\n",
    "car1 = Car(\" Bmw\",\" Blue\", 240)\n",
    "car2 = Car(\" Mercedes\", \" Black\", 230)\n",
    "print(car1.compareCar(car2))"
   ]
  },
  {
   "cell_type": "code",
   "execution_count": 98,
   "metadata": {},
   "outputs": [
    {
     "name": "stdout",
     "output_type": "stream",
     "text": [
      "420.0\n",
      "welcome to your car Tigran\n",
      "None\n"
     ]
    }
   ],
   "source": [
    "class Police_Car:\n",
    "    tax_value = 0.2\n",
    "    def __init__(self, owner,price,pass_code):\n",
    "        self.owner = owner\n",
    "        self.price = price \n",
    "        self.__pass_code = pass_code\n",
    "    def tax(self):\n",
    "        return self.tax_value * self.price\n",
    "    def greeting(self):\n",
    "        if self.__pass_code == \"admin\":\n",
    "            print(\"welcome to your car\", self.owner)\n",
    "    def set_code(self, new_code):\n",
    "        self.__pass_code = new_code\n",
    "        \n",
    "    def get_code(self):\n",
    "        return self.__pass_code\n",
    "        \n",
    "            \n",
    "    \n",
    "pc1 = Police_Car(\"Tigran\", 2100, \"admin\")\n",
    "print(pc1.tax())\n",
    "print(pc1.greeting())"
   ]
  },
  {
   "cell_type": "code",
   "execution_count": null,
   "metadata": {},
   "outputs": [],
   "source": []
  },
  {
   "cell_type": "code",
   "execution_count": null,
   "metadata": {},
   "outputs": [],
   "source": []
  }
 ],
 "metadata": {
  "kernelspec": {
   "display_name": "Python 3",
   "language": "python",
   "name": "python3"
  },
  "language_info": {
   "codemirror_mode": {
    "name": "ipython",
    "version": 3
   },
   "file_extension": ".py",
   "mimetype": "text/x-python",
   "name": "python",
   "nbconvert_exporter": "python",
   "pygments_lexer": "ipython3",
   "version": "3.7.4"
  }
 },
 "nbformat": 4,
 "nbformat_minor": 2
}
